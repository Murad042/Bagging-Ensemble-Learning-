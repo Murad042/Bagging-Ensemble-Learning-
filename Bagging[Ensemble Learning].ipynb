{
  "nbformat": 4,
  "nbformat_minor": 0,
  "metadata": {
    "colab": {
      "name": "Untitled7.ipynb",
      "provenance": [],
      "authorship_tag": "ABX9TyNPln0KCEtHST+qp3sVaDZK",
      "include_colab_link": true
    },
    "kernelspec": {
      "name": "python3",
      "display_name": "Python 3"
    },
    "language_info": {
      "name": "python"
    }
  },
  "cells": [
    {
      "cell_type": "markdown",
      "metadata": {
        "id": "view-in-github",
        "colab_type": "text"
      },
      "source": [
        "<a href=\"https://colab.research.google.com/github/Murad042/Bagging-Ensemble-Learning-/blob/main/Bagging%5BEnsemble%20Learning%5D.ipynb\" target=\"_parent\"><img src=\"https://colab.research.google.com/assets/colab-badge.svg\" alt=\"Open In Colab\"/></a>"
      ]
    },
    {
      "cell_type": "code",
      "metadata": {
        "id": "njHlSFtW_uDF"
      },
      "source": [
        "import numpy as np\n",
        "from sklearn import model_selection\n",
        "from sklearn.ensemble import BaggingClassifier\n",
        "from sklearn.tree import DecisionTreeClassifier\n",
        "from sklearn.datasets import load_iris"
      ],
      "execution_count": null,
      "outputs": []
    },
    {
      "cell_type": "code",
      "metadata": {
        "id": "jnU5j13d_03g"
      },
      "source": [
        "iris = load_iris()\n",
        "X = iris.data\n",
        "Y = iris.target\n"
      ],
      "execution_count": null,
      "outputs": []
    },
    {
      "cell_type": "code",
      "metadata": {
        "id": "yAGTTwzx_6tY"
      },
      "source": [
        "X_fit, X_eval, y_fit, y_test= model_selection.train_test_split( X, Y, test_size=0.30, random_state=1 )"
      ],
      "execution_count": null,
      "outputs": []
    },
    {
      "cell_type": "code",
      "metadata": {
        "colab": {
          "base_uri": "https://localhost:8080/"
        },
        "id": "fAiU8bsE_-RP",
        "outputId": "6c7a0bcc-7545-4923-97be-a6aa622f32fa"
      },
      "source": [
        "##Create random sub sample to train multiple models\n",
        "seed = 7\n",
        "kfold = model_selection.KFold(n_splits=10, random_state=seed)"
      ],
      "execution_count": null,
      "outputs": [
        {
          "output_type": "stream",
          "text": [
            "/usr/local/lib/python3.7/dist-packages/sklearn/model_selection/_split.py:296: FutureWarning: Setting a random_state has no effect since shuffle is False. This will raise an error in 0.24. You should leave random_state to its default (None), or set shuffle=True.\n",
            "  FutureWarning\n"
          ],
          "name": "stderr"
        }
      ]
    },
    {
      "cell_type": "code",
      "metadata": {
        "id": "XlB9nmcUAJbx"
      },
      "source": [
        "##Define a decision tree classifier\n",
        "cart = DecisionTreeClassifier()\n",
        "num_trees = 100\n"
      ],
      "execution_count": null,
      "outputs": []
    },
    {
      "cell_type": "code",
      "metadata": {
        "id": "GwzAGNO5ATa5"
      },
      "source": [
        "##Create classification model for bagging\n",
        "model = BaggingClassifier(base_estimator=cart, n_estimators=num_trees, random_state=seed)"
      ],
      "execution_count": null,
      "outputs": []
    },
    {
      "cell_type": "code",
      "metadata": {
        "colab": {
          "base_uri": "https://localhost:8080/"
        },
        "id": "s3W8IeGQAa2d",
        "outputId": "3e91762c-33f4-4e8c-9fa8-68120127fcff"
      },
      "source": [
        "##Train different models and print their accuracy\n",
        "results = model_selection.cross_val_score(model, X_fit, y_fit,cv=kfold)\n",
        "for i in range(len(results)):\n",
        "    print(\"Model: \"+str(i)+\" Accuracy is: \"+str(results[i]))"
      ],
      "execution_count": null,
      "outputs": [
        {
          "output_type": "stream",
          "text": [
            "Model: 0 Accuracy is: 1.0\n",
            "Model: 1 Accuracy is: 1.0\n",
            "Model: 2 Accuracy is: 1.0\n",
            "Model: 3 Accuracy is: 0.9090909090909091\n",
            "Model: 4 Accuracy is: 1.0\n",
            "Model: 5 Accuracy is: 1.0\n",
            "Model: 6 Accuracy is: 0.9\n",
            "Model: 7 Accuracy is: 1.0\n",
            "Model: 8 Accuracy is: 1.0\n",
            "Model: 9 Accuracy is: 0.7\n"
          ],
          "name": "stdout"
        }
      ]
    },
    {
      "cell_type": "code",
      "metadata": {
        "colab": {
          "base_uri": "https://localhost:8080/"
        },
        "id": "9mFUCCjOAnBF",
        "outputId": "b67584d5-6d1f-4fc5-8159-aa9127dd6454"
      },
      "source": [
        "print(\"Mean Accuracy is: \"+str(results.mean()))"
      ],
      "execution_count": null,
      "outputs": [
        {
          "output_type": "stream",
          "text": [
            "Mean Accuracy is: 0.9509090909090908\n"
          ],
          "name": "stdout"
        }
      ]
    },
    {
      "cell_type": "code",
      "metadata": {
        "colab": {
          "base_uri": "https://localhost:8080/"
        },
        "id": "x9wLzwpEAsY2",
        "outputId": "4d296c7b-e144-4be6-9845-94d28ad7f217"
      },
      "source": [
        "model.fit(X_fit, y_fit)\n",
        "pred_label = model.predict(X_eval)\n",
        "nnz = np.shape(y_test)[0] - np.count_nonzero(pred_label - y_test)\n",
        "acc = 100*nnz/np.shape(y_test)[0]\n",
        "print('accuracy is: '+str(acc))"
      ],
      "execution_count": null,
      "outputs": [
        {
          "output_type": "stream",
          "text": [
            "accuracy is: 95.55555555555556\n"
          ],
          "name": "stdout"
        }
      ]
    },
    {
      "cell_type": "code",
      "metadata": {
        "id": "GbPQR-UdA2oD"
      },
      "source": [
        ""
      ],
      "execution_count": null,
      "outputs": []
    }
  ]
}